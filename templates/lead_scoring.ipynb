{
 "cells": [
  {
   "cell_type": "markdown",
   "id": "7808659f",
   "metadata": {},
   "source": [
    "# Lead Scoring\n",
    "\n",
    "Interactive version"
   ]
  },
  {
   "cell_type": "markdown",
   "id": "604b7842",
   "metadata": {},
   "source": [
    "### Necessary Imports"
   ]
  },
  {
   "cell_type": "code",
   "execution_count": null,
   "id": "b0fcb7d0",
   "metadata": {
    "scrolled": true
   },
   "outputs": [],
   "source": [
    "import pandas as pd\n",
    "import numpy as np\n",
    "import random\n",
    "import shimoku_api_python as shimoku\n",
    "\n",
    "from typing import Dict\n",
    "from os import getenv\n",
    "\n",
    "# for splitting the data\n",
    "from sklearn.model_selection import train_test_split\n",
    "\n",
    "# for model building\n",
    "from sklearn.linear_model import LogisticRegression\n",
    "from sklearn.feature_extraction import DictVectorizer"
   ]
  },
  {
   "cell_type": "markdown",
   "id": "0fff5a7d",
   "metadata": {},
   "source": [
    "### Use Model For Prediction"
   ]
  },
  {
   "cell_type": "code",
   "execution_count": null,
   "id": "b7c3b02b",
   "metadata": {},
   "outputs": [],
   "source": [
    "# This data has been extracted from https://www.kaggle.com/datasets/ashydv/leads-dataset?resource=download\n",
    "leads = pd.read_csv('../data/Leads.csv')\n",
    "\n",
    "# The data is just for demo purposes, so it hasn't been cleaned nor preprocessed much\n",
    "for col in leads.columns:\n",
    "    if leads[col].dtype in ['object', 'datetime64[ns]']:\n",
    "        leads[col] = leads[col].fillna(leads[col].mode()[0])\n",
    "    elif leads[col].dtype in ['int64', 'float64', 'int32', 'float32']:\n",
    "        leads[col] = leads[col].fillna(leads[col].mean())\n",
    "\n",
    "df_train, df_test = train_test_split(leads, test_size=0.2)\n",
    "\n",
    "y_train = df_train.Converted.values\n",
    "\n",
    "del df_train['Converted']\n",
    "del df_test['Converted']\n",
    "\n",
    "train_dic = df_train.to_dict(orient='records')\n",
    "dv = DictVectorizer(sparse=False)\n",
    "dv.fit(train_dic)\n",
    "\n",
    "X_train = dv.transform(train_dic)\n",
    "model = LogisticRegression(solver='liblinear')\n",
    "model.fit(X_train, y_train)\n",
    "\n",
    "test_dic = df_test.to_dict(orient='records')\n",
    "X_test = dv.transform(test_dic)\n",
    "test_prediction = model.predict_proba(X_test)[:, 1]\n",
    "\n",
    "binary_prediction_table = pd.DataFrame({\n",
    "    'Lead ID': df_test['Lead Number'].values,\n",
    "    'Probability': [round(100 * p, 2) for p in test_prediction],\n",
    "    'Lead Scoring': ['High' if v > 0.75 else 'Medium' if v > 0.5 else 'Low' for v in test_prediction],\n",
    "    # Get random set of two column names\n",
    "    'Positive Impact Factors': [df_test.columns[np.random.randint(0, len(df_test.columns))] + ', ' +\n",
    "                                df_test.columns[np.random.randint(0, len(df_test.columns))]\n",
    "                                for i in range(len(test_prediction))],\n",
    "    'Negative Impact Factors': [df_test.columns[np.random.randint(0, len(df_test.columns))] + ', ' +\n",
    "                                df_test.columns[np.random.randint(0, len(df_test.columns))]\n",
    "                                for i in range(len(test_prediction))],\n",
    "})\n",
    "\n",
    "total_occurrences = len(binary_prediction_table)\n",
    "high_conversion_occurrences = len(binary_prediction_table[binary_prediction_table['Lead Scoring'] == 'High'])\n",
    "moderate_conversion_occurrences = len(binary_prediction_table[binary_prediction_table['Lead Scoring'] == 'Medium'])\n",
    "low_conversion_occurrences = len(binary_prediction_table[binary_prediction_table['Lead Scoring'] == 'Low'])\n",
    "\n",
    "high_conversion = high_conversion_occurrences / total_occurrences\n",
    "moderate_conversion = moderate_conversion_occurrences / total_occurrences\n",
    "low_conversion = low_conversion_occurrences / total_occurrences"
   ]
  },
  {
   "cell_type": "markdown",
   "id": "911b4f2f",
   "metadata": {},
   "source": [
    "### Define Auxiliary Funtions"
   ]
  },
  {
   "cell_type": "code",
   "execution_count": null,
   "id": "d3214169",
   "metadata": {},
   "outputs": [],
   "source": [
    "def get_label_columns(table_data: pd.DataFrame) -> Dict:\n",
    "    low_threshold = table_data[\"Probability\"][table_data[\"Lead Scoring\"] == \"Low\"].max() + 1e-10\n",
    "    mid_threshold = table_data[\"Probability\"][table_data[\"Lead Scoring\"] == \"Medium\"].max() + 1e-10\n",
    "    return {\n",
    "        'Positive Impact Factors': ('#20C69E', 'filled', 'rounded'),\n",
    "        'Negative Impact Factors': ('#ED5627', 'filled', 'rounded'),\n",
    "        'Lead Scoring': {\n",
    "            'Low': ('#F86C7D', 'rounded', 'filled'),\n",
    "            'High': ('#001E50', 'rounded', 'filled'),\n",
    "            'Medium': ('#F2BB67', 'rounded', 'filled'),\n",
    "        },\n",
    "        'Probability': {\n",
    "            (0, low_threshold): ('#F86C7D', 'rounded', 'outlined'),\n",
    "            (low_threshold, mid_threshold): ('#F2BB67', 'rounded', 'outlined'),\n",
    "            (mid_threshold, np.inf): ('#001E50', 'rounded', 'outlined'),\n",
    "        },\n",
    "    }"
   ]
  },
  {
   "cell_type": "markdown",
   "id": "9e8741cc",
   "metadata": {},
   "source": [
    "### Client Initialization"
   ]
  },
  {
   "cell_type": "code",
   "execution_count": null,
   "id": "6297c6bd",
   "metadata": {},
   "outputs": [],
   "source": [
    "api_key: str = getenv('API_TOKEN')\n",
    "universe_id: str = getenv('UNIVERSE_ID')\n",
    "business_id: str = getenv('BUSINESS_ID')\n",
    "environment: str = getenv('ENVIRONMENT')\n",
    "\n",
    "s = shimoku.Client(\n",
    "    access_token=api_key,\n",
    "    universe_id=universe_id,\n",
    "    environment=environment,\n",
    "    business_id=business_id,\n",
    "    async_execution=True,\n",
    "    verbosity='INFO',\n",
    ")\n",
    "menu_path = 'Lead Scoring'"
   ]
  },
  {
   "cell_type": "markdown",
   "id": "663d7921",
   "metadata": {},
   "source": [
    "### Clear Menu Path"
   ]
  },
  {
   "cell_type": "code",
   "execution_count": null,
   "id": "8de72409",
   "metadata": {},
   "outputs": [],
   "source": [
    "s.plt.delete_path(menu_path)"
   ]
  },
  {
   "cell_type": "markdown",
   "id": "74c061df",
   "metadata": {},
   "source": [
    "### Page Header"
   ]
  },
  {
   "cell_type": "code",
   "execution_count": null,
   "id": "48bcc4c8",
   "metadata": {},
   "outputs": [],
   "source": [
    "prediction_header = (\n",
    "    \"<head>\"\n",
    "    \"<style>\"  # Styles title\n",
    "    \".component-title{height:auto; width:100%; \"\n",
    "    \"border-radius:16px; padding:16px;\"\n",
    "    \"display:flex; align-items:center;\"\n",
    "    \"background-color:var(--chart-C1); color:var(--color-white);}\"\n",
    "    \"</style>\"\n",
    "    # Start icons style\n",
    "    \"<style>.big-icon-banner\"\n",
    "    \"{width:48px; height: 48px; display: flex;\"\n",
    "    \"margin-right: 16px;\"\n",
    "    \"justify-content: center;\"\n",
    "    \"align-items: center;\"\n",
    "    \"background-size: contain;\"\n",
    "    \"background-position: center;\"\n",
    "    \"background-repeat: no-repeat;\"\n",
    "    \"background-image: url('https://uploads-ssl.webflow.com/619f9fe98661d321dc3beec7/63594ccf3f311a98d72faff7_suite-customer-b.svg');}\"\n",
    "    \"</style>\"\n",
    "    # End icons style\n",
    "    \"<style>.base-white{color:var(--color-white);}</style>\"\n",
    "    \"</head>\"  # Styles subtitle\n",
    "    \"<div class='component-title'>\"\n",
    "    \"<div class='big-icon-banner'></div>\"\n",
    "    \"<div class='text-block'>\"\n",
    "    \"<h1>Predictions</h1>\"\n",
    "    \"<p class='base-white'>\"\n",
    "    \"Lead scoring prediction</p>\"\n",
    "    \"</div>\"\n",
    "    \"</div>\"\n",
    ")\n",
    "\n",
    "s.plt.html(\n",
    "    html=prediction_header, menu_path=menu_path, order=0\n",
    ")"
   ]
  },
  {
   "cell_type": "markdown",
   "id": "6ab3133e",
   "metadata": {},
   "source": [
    "### General Indicators"
   ]
  },
  {
   "cell_type": "code",
   "execution_count": null,
   "id": "f3ed5d9b",
   "metadata": {},
   "outputs": [],
   "source": [
    "prediction_indicators = [\n",
    "    {\n",
    "        'description': f\"{100 * high_conversion:.2f}% of total {total_occurrences}\",\n",
    "        'title': 'High conversion (#)',\n",
    "        'value': int(total_occurrences * high_conversion),\n",
    "        'color': 'success',\n",
    "        \"target_path\": 'www.shimoku.com',\n",
    "    },\n",
    "    {\n",
    "        'description': '% of leads that will purchase within 120 days. Time saved: 80%',\n",
    "        'title': 'High conversion expected',\n",
    "        'value': '85%',\n",
    "        'color': 'success',\n",
    "        'variant': 'contained',\n",
    "        \"target_path\": 'www.shimoku.com',\n",
    "    },\n",
    "    {\n",
    "        'description': f\"{100 * moderate_conversion:.2f}% of total {total_occurrences}\",\n",
    "        'title': 'Moderate conversion (#)',\n",
    "        'value': int(total_occurrences * moderate_conversion),\n",
    "        'color': 'warning',\n",
    "        \"target_path\": 'www.shimoku.com',\n",
    "    },\n",
    "    {\n",
    "        'description': '% of leads that will purchase within 120 days. Time saved: 70%',\n",
    "        'title': 'Medium conversion expected',\n",
    "        'value': '40%',\n",
    "        'color': 'warning',\n",
    "        'variant': 'contained',\n",
    "        \"target_path\": 'www.shimoku.com',\n",
    "    },\n",
    "    {\n",
    "        \"description\": f\"{100 * low_conversion:.2f}% of total {total_occurrences}\",\n",
    "        \"title\": 'Low conversion (#)',\n",
    "        \"value\": int(total_occurrences * low_conversion),\n",
    "        \"color\": 'error',\n",
    "    },\n",
    "    {\n",
    "        'description': '% of leads that will purchase within 120 days.',\n",
    "        'title': 'Low conversion expected',\n",
    "        'value': '5%',\n",
    "        'color': 'error',\n",
    "        'variant': 'contained',\n",
    "    },\n",
    "]"
   ]
  },
  {
   "cell_type": "code",
   "execution_count": null,
   "id": "be75a16e",
   "metadata": {},
   "outputs": [],
   "source": [
    "for i in range(3):\n",
    "    s.plt.indicator(\n",
    "        data=prediction_indicators[i * 2:i * 2 + 2],\n",
    "        menu_path=menu_path, order=i*2+1, rows_size=1, cols_size=12,\n",
    "        value=\"value\", header='title',\n",
    "        footer='description', color='color', variant='variant'\n",
    "    )"
   ]
  },
  {
   "cell_type": "markdown",
   "id": "8a4f20c5",
   "metadata": {},
   "source": [
    "### Prediction Table"
   ]
  },
  {
   "cell_type": "code",
   "execution_count": null,
   "id": "c9dbd0b7",
   "metadata": {},
   "outputs": [],
   "source": [
    "prediction_table_header = (\n",
    "        '<div style=\"width:100%; height:90px; \"><h4>Lead predicton & factors</h4>'\n",
    "        '<p>Affectation values for each lead</p></div>'\n",
    ")\n",
    "s.plt.html(html=prediction_table_header, menu_path=menu_path, order=7)\n",
    "\n",
    "label_columns = get_label_columns(binary_prediction_table)\n",
    "\n",
    "s.plt.table(\n",
    "    menu_path=menu_path, order=8, data=binary_prediction_table[:200],\n",
    "    label_columns=label_columns, filter_columns=['Lead Scoring'],\n",
    "    search_columns=['Lead ID', 'Negative Impact Factors', 'Positive Impact Factors'],\n",
    "    value_suffixes={'Probability': '%'}\n",
    ")\n",
    "\n",
    "table_explanaiton = (\n",
    "    \"<head>\"\n",
    "    \"<style>.banner\"\n",
    "    \"{height:100%; width:100%; border-radius:var(--border-radius-m); padding:24px;\"\n",
    "    \"background-size: cover;\"\n",
    "    \"background-image: url('https://ajgutierrezcommx.files.wordpress.com/2022/12/bg-info-predictions.png');\"\n",
    "    \"color:var(--color-white);}\"\n",
    "    \"</style>\"\n",
    "    \"</head>\"\n",
    "    \"<a href='https://shimoku.webflow.io/product/churn-prediction' target='_blank'>\"  # link\n",
    "    \"<div class='banner'>\"\n",
    "    \"<p class='base-white'>\"\n",
    "    \"This table shows the impact values that effect each prediction of each policy. \"\n",
    "    \"With it you can make the best decisions. <br>\"\n",
    "    \"By filtering the data, by the values that interest you the most or by the probability of \"\n",
    "    \"conversion that you want to improve, you will be able to take the necessary actions \"\n",
    "    \"to obtain the maximum benefit or reduce the losses to a minimum.\"\n",
    "    \"</p>\"\n",
    "    \"<div class='button'>Know more</div>\"  # Text button\n",
    "    \"</div>\"\n",
    "    \"</a>\"\n",
    ")\n",
    "s.plt.html(html=table_explanaiton, menu_path=menu_path, order=9)"
   ]
  },
  {
   "cell_type": "markdown",
   "id": "722a08db",
   "metadata": {},
   "source": [
    "### Distribution "
   ]
  },
  {
   "cell_type": "code",
   "execution_count": null,
   "id": "61189722",
   "metadata": {},
   "outputs": [],
   "source": [
    "distribution_header_html = (\n",
    "        '<div style=\"width:100%; height:90px; \"><h4>Lead distribution according to % scoring prediction</h4>'\n",
    "        '<p>Total and disaggregated distribution and porcentage</p></div>'\n",
    "    )\n",
    "s.plt.html(html=distribution_header_html, menu_path=menu_path, order=10)"
   ]
  },
  {
   "cell_type": "code",
   "execution_count": null,
   "id": "8f0a1917",
   "metadata": {},
   "outputs": [],
   "source": [
    "doughnut_chart_data = f\"\"\"\n",
    "    {{\n",
    "        tooltip: {{\n",
    "        trigger: 'item'\n",
    "    }},\n",
    "    legend: {{\n",
    "        top: '5%',\n",
    "        left: 'center'\n",
    "    }},\n",
    "    series: [\n",
    "    {{\n",
    "        name: 'Access From',\n",
    "        type: 'pie',\n",
    "        radius: ['40%', '70%'],\n",
    "        avoidLabelOverlap: false,\n",
    "        itemStyle: {{\n",
    "            borderRadius: 0,\n",
    "            borderColor: '#fff',\n",
    "            borderWidth: 0\n",
    "        }},\n",
    "        label: {{\n",
    "            show: false,\n",
    "            position: 'center'\n",
    "        }},\n",
    "        emphasis: {{\n",
    "            label: {{\n",
    "            show: false,\n",
    "            fontSize: '40',\n",
    "            fontWeight: 'bold'\n",
    "        }}\n",
    "      }},\n",
    "      labelLine: {{\n",
    "        show: false\n",
    "      }},\n",
    "      data: [\n",
    "        {{ value: {high_conversion_occurrences}, name: 'High > 75%' }},\n",
    "        {{ value: {moderate_conversion_occurrences}, name: 'Medium [50% - 75%]' }},\n",
    "        {{ value: {low_conversion_occurrences}, name: 'Low < 50%' }}\n",
    "      ]\n",
    "    }}\n",
    "  ]\n",
    "}};      \n",
    "\"\"\""
   ]
  },
  {
   "cell_type": "code",
   "execution_count": null,
   "id": "1eb576b4",
   "metadata": {},
   "outputs": [],
   "source": [
    "s.plt.free_echarts(\n",
    "    raw_options=doughnut_chart_data,\n",
    "    menu_path=menu_path, order=11, cols_size=5, rows_size=2\n",
    ")"
   ]
  },
  {
   "cell_type": "markdown",
   "id": "efc1f7cd",
   "metadata": {},
   "source": [
    "### Feature Importance"
   ]
  },
  {
   "cell_type": "code",
   "execution_count": null,
   "id": "10f55e26",
   "metadata": {},
   "outputs": [],
   "source": [
    "feature_importance = pd.DataFrame({\n",
    "    'Feature': dv.feature_names_,\n",
    "    'Importance (%)': model.coef_[0]\n",
    "})"
   ]
  },
  {
   "cell_type": "code",
   "execution_count": null,
   "id": "d911c8b3",
   "metadata": {},
   "outputs": [],
   "source": [
    "s.plt.bar(\n",
    "    data=feature_importance.sort_values('Importance (%)', ascending=False)[:10],\n",
    "    x='Feature', y=['Importance (%)'],\n",
    "    menu_path=menu_path, order=12, rows_size=2, cols_size=7,\n",
    ")"
   ]
  },
  {
   "cell_type": "markdown",
   "id": "767928ca",
   "metadata": {},
   "source": [
    "### Next Best Product"
   ]
  },
  {
   "cell_type": "code",
   "execution_count": null,
   "id": "bdb46ce3",
   "metadata": {},
   "outputs": [],
   "source": [
    "next_best_product_header_html = (\n",
    "    '<div style=\"width:100%; height:90px; \"><h4>Next best product prediction</h4>'\n",
    "    '<p>Products with a high probability of conversion for each lead</p></div>'\n",
    ")\n",
    "s.plt.html(html=next_best_product_header_html, menu_path=menu_path, order=13)"
   ]
  },
  {
   "cell_type": "code",
   "execution_count": null,
   "id": "e322e4d6",
   "metadata": {},
   "outputs": [],
   "source": [
    "product_recommendation_indicators = [\n",
    "    {\n",
    "        \"color\": \"warning\",\n",
    "        \"backgroundImage\": \"https://cdn-mx.comparabien.com/s3fs-public/styles/blog_full/public/field/image/seguro%20de%20auto.png?itok=be2ewUsJ\",\n",
    "        \"variant\": \"outlined\", \"description\": \"\", \"title\": \"Autos (# prospects)\",\n",
    "        \"align\": \"left\", \"value\": int(len(test_prediction) * 0.4)\n",
    "    },\n",
    "    {\n",
    "        \"color\": \"warning\", \"backgroundImage\": \"https://cotizator.com/wp-content/uploads/2020/06/imagen.png\",\n",
    "        \"variant\": \"outlined\", \"description\": \"\", \"title\": \"New life (# prospects)\",\n",
    "        \"align\": \"left\", \"value\": int(len(test_prediction) * 0.3)\n",
    "    },\n",
    "    {\n",
    "        \"color\": \"warning\",\n",
    "        \"backgroundImage\": \"https://s3.amazonaws.com/s3.timetoast.com/public/uploads/photos/11439948/SALUD-P%C3%9ABLICA-Y-GESTI%C3%93N-SANITARIA.jpg\",\n",
    "        \"variant\": \"outlined\", \"description\": \"\", \"title\": \"Health (# prospects)\",\n",
    "        \"align\": \"left\", \"value\": int(len(test_prediction) * 0.2)\n",
    "    }\n",
    "]"
   ]
  },
  {
   "cell_type": "code",
   "execution_count": null,
   "id": "10e49566",
   "metadata": {},
   "outputs": [],
   "source": [
    "s.plt.indicator(\n",
    "    data=product_recommendation_indicators, menu_path=menu_path, order=14,\n",
    "    value='value', header='title', align='align', color='color',\n",
    "    variant='variant', background_image='backgroundImage',\n",
    ")"
   ]
  },
  {
   "cell_type": "code",
   "execution_count": null,
   "id": "e0068035",
   "metadata": {},
   "outputs": [],
   "source": [
    "product_recommendation_table = binary_prediction_table[['Lead ID', 'Probability', 'Lead Scoring']].copy(deep=True)\n",
    "\n",
    "product_recommendation_table['Next Best Product'] = \\\n",
    "    [f\"{['Autos', 'New life', 'Health', 'House'][np.random.choice([0, 1, 2, 3], p=[0.4, 0.3, 0.2, 0.1])]} \" \\\n",
    "     f\"({random.randint(1, 100)}%)\"\n",
    "     for i in range(len(product_recommendation_table))]\n"
   ]
  },
  {
   "cell_type": "code",
   "execution_count": null,
   "id": "81ed5364",
   "metadata": {},
   "outputs": [],
   "source": [
    "label_columns = get_label_columns(product_recommendation_table)\n",
    "s.plt.table(\n",
    "    data=product_recommendation_table[:200], menu_path=menu_path, order=17,\n",
    "    filter_columns=['Lead Scoring'], search_columns=['Lead ID', 'Next Best Product'],\n",
    "    label_columns=label_columns, value_suffixes={'Probability': '%'}\n",
    ")"
   ]
  },
  {
   "cell_type": "markdown",
   "id": "5b98efc5",
   "metadata": {},
   "source": [
    "### Execute all tasks"
   ]
  },
  {
   "cell_type": "code",
   "execution_count": null,
   "id": "35acad28",
   "metadata": {},
   "outputs": [],
   "source": [
    "s.run()"
   ]
  }
 ],
 "metadata": {
  "kernelspec": {
   "display_name": "shimoku-app-templates",
   "language": "python",
   "name": "shimoku-app-templates"
  },
  "language_info": {
   "codemirror_mode": {
    "name": "ipython",
    "version": 3
   },
   "file_extension": ".py",
   "mimetype": "text/x-python",
   "name": "python",
   "nbconvert_exporter": "python",
   "pygments_lexer": "ipython3",
   "version": "3.9.16"
  }
 },
 "nbformat": 4,
 "nbformat_minor": 5
}
