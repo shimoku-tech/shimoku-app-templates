{
 "cells": [
  {
   "cell_type": "markdown",
   "id": "be29230b",
   "metadata": {},
   "source": [
    "# Forms In Tabs\n",
    "\n",
    "Interactive version"
   ]
  },
  {
   "cell_type": "markdown",
   "id": "eb060eb2",
   "metadata": {},
   "source": [
    "## Necessary Imports"
   ]
  },
  {
   "cell_type": "code",
   "execution_count": null,
   "id": "43c7c7d3",
   "metadata": {},
   "outputs": [],
   "source": [
    "import random\n",
    "\n",
    "import shimoku_api_python as shimoku\n",
    "\n",
    "from os import getenv"
   ]
  },
  {
   "cell_type": "markdown",
   "id": "29f778f2",
   "metadata": {},
   "source": [
    "## Define Auxiliary Functions"
   ]
  },
  {
   "cell_type": "code",
   "execution_count": null,
   "id": "c47f7939",
   "metadata": {},
   "outputs": [],
   "source": [
    "def title_for_tab(title: str, image: str):\n",
    "    images_map = dict(\n",
    "        up_arrow='https://uploads-ssl.webflow.com/619f9fe98661d321dc3beec7/63b70d3e066b7de92c87e0d6_objetivo.svg',\n",
    "        person='https://uploads-ssl.webflow.com/619f9fe98661d321dc3beec7/63b70d3ed31dd23d7f03c557_confirm.svg',\n",
    "        question_mark='https://uploads-ssl.webflow.com/619f9fe98661d321dc3beec7/63b70d3efa39b1480451e0a7_questions.svg',\n",
    "        calendar='https://uploads-ssl.webflow.com/619f9fe98661d321dc3beec7/63b70d3efa39b15f2451e0a6_when.svg',\n",
    "        clipboard='https://uploads-ssl.webflow.com/619f9fe98661d321dc3beec7/63d38d2975ec8b6beff4b627_descarte.svg',\n",
    "        contact='https://uploads-ssl.webflow.com/619f9fe98661d321dc3beec7/63d38d299332c063e44ab858_diagnos.svg',\n",
    "        line='https://uploads-ssl.webflow.com/619f9fe98661d321dc3beec7/63d38d29d6508b3eccc21382_historia.svg',\n",
    "    )\n",
    "    return (\n",
    "        \"<head>\"\n",
    "        \"<style>.subtitle-block {display: flex; align-items: center;}</style>\"\n",
    "        \"<style>.little-subtitle-block {height:48px; width:48px; padding-up: 24px; color:var(--color-white);}</style>\"\n",
    "        \"<style>.subtitle {var(--color-black); padding-left: 24px; padding-up: 24px;}</style>\"\n",
    "        \"</head>\"\n",
    "        \"<div class='subtitle-block'>\"\n",
    "        \"<div class='little-subtitle-block'>\"\n",
    "        f\"<img src={images_map[image]}>\"  # Change url\n",
    "        \"</div>\"\n",
    "        f\"<h4 class='subtitle'>{title}</h6>\"  # Change subtitle\n",
    "        \"</div>\"\n",
    "    )"
   ]
  },
  {
   "cell_type": "markdown",
   "id": "a33e00a2",
   "metadata": {},
   "source": [
    "## Client Initialization"
   ]
  },
  {
   "cell_type": "code",
   "execution_count": null,
   "id": "3f9ff12c",
   "metadata": {},
   "outputs": [],
   "source": [
    "api_key: str = getenv('API_TOKEN')\n",
    "universe_id: str = getenv('UNIVERSE_ID')\n",
    "workspace_id: str = getenv('WORKSPACE_ID')\n",
    "environment: str = getenv('ENVIRONMENT')\n",
    "\n",
    "s = shimoku.Client(\n",
    "    access_token=api_key,\n",
    "    universe_id=universe_id,\n",
    "    environment=environment,\n",
    "    verbosity='INFO',\n",
    ")\n",
    "\n",
    "s.reuse_data_sets()\n",
    "\n",
    "s.set_workspace(workspace_id)\n",
    "\n",
    "s.set_menu_path('Forms In Tabs')"
   ]
  },
  {
   "cell_type": "markdown",
   "id": "d0c3890e",
   "metadata": {},
   "source": [
    "## Clear Menu Path"
   ]
  },
  {
   "cell_type": "code",
   "execution_count": null,
   "id": "52d0676d",
   "metadata": {},
   "outputs": [],
   "source": [
    "s.plt.clear_menu_path()"
   ]
  },
  {
   "cell_type": "markdown",
   "id": "dde37662",
   "metadata": {},
   "source": [
    "## Create Header"
   ]
  },
  {
   "cell_type": "code",
   "execution_count": null,
   "id": "e4cf4acb",
   "metadata": {},
   "outputs": [],
   "source": [
    "header = (\n",
    "    \"<head>\"\n",
    "    \"<style>.hero-block\"\n",
    "    \"{display: flex; align-items: center; padding: 24px; background-color:transparent;}\"\n",
    "    \"</style>\"\n",
    "    # Start styles icon bg\n",
    "    \"<style>.little-head-block\"\n",
    "    \"{height:80px; width:80px; border-radius:var(--border-radius-m);\"\n",
    "    \"padding:16px; background:var(--color-secondary);\"\n",
    "    \"color:var(--color-white);}\"\n",
    "    \"</style>\"\n",
    "    # End styles icon bg\n",
    "    \"<style>.title{var(--color-black); padding-left: 24px;}</style>\"\n",
    "    \"<style>.button-block{position: absolute; right: 0;}</style>\"\n",
    "    # Start styles button\n",
    "    \"<style>.button\"\n",
    "    \"{display: flex; background-color: var(--color-black);\"  # Change bg color\n",
    "    \"padding: 16px; border-radius: var(--border-radius-m);\"  # Change padding to increase width and height\n",
    "    \"font-size: 14px; color: var(--color-white); box-shadow: var(--box-shadow-m); transition-duration: 0.2s;}\"\n",
    "    \".button:hover{background-color: var(--color-secondary); color: var(--color-white);}\"  # Change bg and text hover colors\n",
    "    \"</style>\"\n",
    "    # End styles button\n",
    "    \"</head>\"\n",
    "    \"<div class='hero-block'>\"\n",
    "    \"<div class='little-head-block'>\"\n",
    "    \"<img src='https://uploads-ssl.webflow.com/619f9fe98661d321dc3beec7/63d266030485cb25312127b2_usersearch.svg'>\"\n",
    "    \"</div>\"\n",
    "    \"<h1 class='title'>Forms In Tabs</h1>\"\n",
    "    \"</div>\"\n",
    "    \"</div>\"\n",
    ")\n",
    "\n",
    "s.plt.html(\n",
    "    html=header,order=0, cols_size=12,\n",
    ")"
   ]
  },
  {
   "cell_type": "markdown",
   "id": "816dd1a2",
   "metadata": {},
   "source": [
    "## First Step Tab"
   ]
  },
  {
   "cell_type": "code",
   "execution_count": null,
   "id": "0f182680",
   "metadata": {},
   "outputs": [],
   "source": [
    "s.plt.set_tabs_index(tabs_index=('Steps', 'First Step'), order=2)"
   ]
  },
  {
   "cell_type": "markdown",
   "id": "fd58a919",
   "metadata": {},
   "source": [
    "### First Bento Box"
   ]
  },
  {
   "cell_type": "code",
   "execution_count": null,
   "id": "9d88fb85",
   "metadata": {},
   "outputs": [],
   "source": [
    "s.plt.set_bentobox(cols_size=8, rows_size=2)"
   ]
  },
  {
   "cell_type": "code",
   "execution_count": null,
   "id": "dd09b8c6",
   "metadata": {},
   "outputs": [],
   "source": [
    "s.plt.html(\n",
    "    html=title_for_tab('General Questions', 'question_mark'),\n",
    "    order=0, rows_size=3, cols_size=22, padding='2, 0, 0, 1',\n",
    ")"
   ]
  },
  {
   "cell_type": "code",
   "execution_count": null,
   "id": "b0537670",
   "metadata": {},
   "outputs": [],
   "source": [
    "s.activate_async_execution()\n",
    "\n",
    "general_questions_forms_data = {\n",
    "    'Which problem?': [{\n",
    "        'mapping': 'whichProblem',\n",
    "        'fieldName': 'Select a problem',\n",
    "        'inputType': 'select',\n",
    "        'options': ['Problem 1', 'Problem 2', 'Problem 3'],\n",
    "    },\n",
    "        {\n",
    "            'mapping': 'whichProblemIntensity',\n",
    "            'fieldName': 'Specify the intensity',\n",
    "            'inputType': 'range',\n",
    "        }],\n",
    "    'When did it happen?': [{\n",
    "        'mapping': 'whenDidItHappen',\n",
    "        'fieldName': 'Select an approximate date range',\n",
    "        'inputType': 'dateRange',\n",
    "    }],\n",
    "    'How did it happen?': [{\n",
    "        'mapping': 'howDidItHappen',\n",
    "        'fieldName': 'Describe the problem',\n",
    "        'inputType': 'text',\n",
    "    }],\n",
    "    'Estimated cost?': [{\n",
    "        'mapping': 'estimatedCost',\n",
    "        'fieldName': 'Specify the estimated cost',\n",
    "        'inputType': 'number',\n",
    "    }],\n",
    "    'Estimated time to fix?': [{\n",
    "        'mapping': 'estimatedTimeToFix',\n",
    "        'fieldName': 'Specify the estimated time to fix in days',\n",
    "        'inputType': 'number',\n",
    "    }],\n",
    "    'How can we contact you?': [{\n",
    "        'mapping': 'howCanWeContactYouMail',\n",
    "        'fieldName': 'Specify your email',\n",
    "        'inputType': 'email',\n",
    "        'sizeColumns': 11,\n",
    "    },\n",
    "    {\n",
    "        'mapping': 'howCanWeContactYouTlf',\n",
    "        'fieldName': 'Specify your phone number',\n",
    "        'inputType': 'tel',\n",
    "        'sizeColumns': 11,\n",
    "    }],\n",
    "}\n",
    "\n",
    "s.plt.set_tabs_index(\n",
    "    tabs_index=('Questions', list(general_questions_forms_data.keys())[0]), cols_size=22, rows_size=17,\n",
    "    padding='1,0,0,1', just_labels=True, sticky=False, order=1, parent_tabs_index=('Steps', 'First Step'),\n",
    ")\n",
    "\n",
    "for question, form_data in general_questions_forms_data.items():\n",
    "    s.plt.change_current_tab(question)\n",
    "    form_options = {\n",
    "        'variant': 'autoSend',\n",
    "        'fields': [\n",
    "            {\n",
    "                'title': '',\n",
    "                'fields': form_data\n",
    "            }\n",
    "        ]\n",
    "    }\n",
    "    s.plt.input_form(\n",
    "        options=form_options, order=0, cols_size=22,\n",
    "        padding=f'{0 if question == \"Which problem?\" else 1}, 0, 0, 0',\n",
    "    )\n",
    "\n",
    "s.plt.pop_out_of_bentobox()\n",
    "s.plt.set_tabs_index(tabs_index=('Steps', 'First Step'))\n",
    "\n",
    "s.activate_sequential_execution()"
   ]
  },
  {
   "cell_type": "markdown",
   "id": "772810b9",
   "metadata": {},
   "source": [
    "### Second Bento Box"
   ]
  },
  {
   "cell_type": "code",
   "execution_count": null,
   "id": "5293f833",
   "metadata": {},
   "outputs": [],
   "source": [
    "s.plt.set_bentobox(cols_size=4, rows_size=2)"
   ]
  },
  {
   "cell_type": "code",
   "execution_count": null,
   "id": "b606cb58",
   "metadata": {},
   "outputs": [],
   "source": [
    "s.plt.html(\n",
    "    html=title_for_tab('Plan', 'up_arrow'),\n",
    "    order=4, rows_size=3, cols_size=22,\n",
    "    padding='2, 0, 0, 1',\n",
    ")"
   ]
  },
  {
   "cell_type": "code",
   "execution_count": null,
   "id": "bbb38e09",
   "metadata": {},
   "outputs": [],
   "source": [
    "input_forms = {'': [{\n",
    "    'mapping': 'planSelection',\n",
    "    'fieldName': 'Select one of the available plans',\n",
    "    'inputType': 'radio',\n",
    "    'options': ['Plan A', 'Plan B', 'Plan C', 'Plan D',\n",
    "                'Plan E', 'Plan F', 'Plan G', 'Plan H'],\n",
    "}]}\n",
    "\n",
    "s.plt.generate_input_form_groups(\n",
    "    order=5, form_groups=input_forms, cols_size=22, rows_size=8,\n",
    "    padding='1,0,0,1', auto_send=True,\n",
    ")\n",
    "s.plt.pop_out_of_bentobox()"
   ]
  },
  {
   "cell_type": "markdown",
   "id": "3241d6da",
   "metadata": {},
   "source": [
    "### Third Bento Box"
   ]
  },
  {
   "cell_type": "code",
   "execution_count": null,
   "id": "346a849f",
   "metadata": {},
   "outputs": [],
   "source": [
    "s.plt.set_bentobox(cols_size=12, rows_size=2)"
   ]
  },
  {
   "cell_type": "code",
   "execution_count": null,
   "id": "e853faea",
   "metadata": {},
   "outputs": [],
   "source": [
    "s.plt.html(\n",
    "    html=title_for_tab('Previous Experiences', 'clipboard'),\n",
    "    order=7, rows_size=3, cols_size=22, padding='2, 0, 1, 1',\n",
    ")"
   ]
  },
  {
   "cell_type": "code",
   "execution_count": null,
   "id": "9d381585",
   "metadata": {},
   "outputs": [],
   "source": [
    "input_forms = {'': [\n",
    "    {\n",
    "        'mapping': 'previousExperiences',\n",
    "        'fieldName': 'Have you had previous experiences with this problem?',\n",
    "        'inputType': 'radio',\n",
    "        'options': ['Yes', 'No'],\n",
    "        'sizeColumns': 3,\n",
    "    },\n",
    "    {\n",
    "        'mapping': 'previousExperiencesWhen',\n",
    "        'fieldName': 'When?',\n",
    "        'inputType': 'date',\n",
    "        'sizeColumns': 19,\n",
    "    },\n",
    "    {\n",
    "        'mapping': 'previousExperiencesSolution',\n",
    "        'fieldName': 'How was it solved?',\n",
    "        'inputType': 'text'\n",
    "    }\n",
    "]}\n",
    "\n",
    "s.plt.generate_input_form_groups(\n",
    "    order=8, form_groups=input_forms, cols_size=22, rows_size=20,\n",
    "    padding='0,0,0,1', auto_send=True,\n",
    ")"
   ]
  },
  {
   "cell_type": "markdown",
   "id": "651474d1",
   "metadata": {},
   "source": [
    "## Second Step Tab"
   ]
  },
  {
   "cell_type": "code",
   "execution_count": null,
   "id": "a1749cd8",
   "metadata": {},
   "outputs": [],
   "source": [
    "s.plt.set_tabs_index(tabs_index=('Steps', 'Second Step'))"
   ]
  },
  {
   "cell_type": "code",
   "execution_count": null,
   "id": "8e3d6e39",
   "metadata": {},
   "outputs": [],
   "source": [
    "s.plt.html(\n",
    "    html=title_for_tab(\"Problem Characteristics\", 'question_mark'),\n",
    "    order=0, rows_size=2, cols_size=12,\n",
    ")"
   ]
  },
  {
   "cell_type": "code",
   "execution_count": null,
   "id": "e70ab0f6",
   "metadata": {},
   "outputs": [],
   "source": [
    "def input_binary_and_select(text, order, options, options_name='Specify'):\n",
    "    s.plt.set_bentobox(cols_size=6, rows_size=2)\n",
    "\n",
    "    s.plt.html(\n",
    "        html=f\"<h6>    </h6> <br> <br>\",\n",
    "        order=order, rows_size=1, cols_size=12,\n",
    "    )\n",
    "\n",
    "    text_mapping = text.split(' ')[0]\n",
    "    input_forms = {'': [{\n",
    "            'mapping': 'Second Step ' + text_mapping,\n",
    "            'fieldName': text,\n",
    "            'inputType': 'radio',\n",
    "            'options': ['Yes', 'No'],\n",
    "        },\n",
    "        {\n",
    "            'mapping': 'Second Step ' + text_mapping + ' ' + options_name,\n",
    "            'fieldName': options_name,\n",
    "            'inputType': 'select',\n",
    "            'options': options,\n",
    "            'showSearch': True,\n",
    "        }\n",
    "    ]}\n",
    "\n",
    "    s.plt.generate_input_form_groups(\n",
    "        order=order + 1, form_groups=input_forms, cols_size=22,\n",
    "        rows_size=14, padding=f'3,0,0,1', auto_send=True,\n",
    "    )\n",
    "    s.plt.pop_out_of_bentobox()"
   ]
  },
  {
   "cell_type": "code",
   "execution_count": null,
   "id": "f0c5ff47",
   "metadata": {},
   "outputs": [],
   "source": [
    "s.activate_async_execution()\n",
    "input_binary_and_select('Characteristic 1', 2 , ['Option 1', 'Option 2'])\n",
    "input_binary_and_select('Characteristic 2', 4 , ['Option 1', 'Option 2'])\n",
    "input_binary_and_select('Characteristic 3', 6 , ['Option 1', 'Option 2'])\n",
    "input_binary_and_select('Characteristic 4', 8 , ['Option 1', 'Option 2'])\n",
    "input_binary_and_select('Characteristic 5', 10, ['Option 1', 'Option 2'])\n",
    "input_binary_and_select('Characteristic 6', 12, ['Option 1', 'Option 2'])\n",
    "s.run()\n",
    "s.activate_sequential_execution()"
   ]
  },
  {
   "cell_type": "markdown",
   "id": "574c463e",
   "metadata": {},
   "source": [
    "## Results Tab"
   ]
  },
  {
   "cell_type": "code",
   "execution_count": null,
   "id": "6abf8452",
   "metadata": {},
   "outputs": [],
   "source": [
    "s.plt.set_tabs_index(tabs_index=('Steps', 'Results'))"
   ]
  },
  {
   "cell_type": "markdown",
   "id": "53392169",
   "metadata": {},
   "source": [
    "The acivity will have no effect, this is just to show how to create an activity button"
   ]
  },
  {
   "cell_type": "code",
   "execution_count": null,
   "id": "22afcbde",
   "metadata": {},
   "outputs": [],
   "source": [
    "if not s.activities.get_activity(name='Mock Activity'):\n",
    "    s.activities.create_activity(name='Mock Activity')\n",
    "\n",
    "s.plt.activity_button(\n",
    "    order=0, activity_name='Mock Activity',\n",
    "    label='Calculate Results',\n",
    "    cols_size=2,\n",
    "    padding='1, 5, 0, 5',\n",
    ")"
   ]
  },
  {
   "cell_type": "code",
   "execution_count": null,
   "id": "7158e455",
   "metadata": {},
   "outputs": [],
   "source": [
    "html = (\n",
    "    \"<head>\"\n",
    "    # Start styles BG\n",
    "    \"<style>.bg-work-v2\"\n",
    "    \"{height: 40vh; width: 100%; border-radius: var(--border-radius-m);\"\n",
    "    \"margin-top: 16px;\"\n",
    "    \"margin-bottom: 32px;\"\n",
    "    \"display: flex;\"\n",
    "    \"justify-content: center;\"\n",
    "    \"align-items: center;\"\n",
    "    \"background-size: auto;\"\n",
    "    \"background-position: center;\"\n",
    "    \"background-repeat: no-repeat;\"\n",
    "    \"background-color: var(--color-grey-100);\"\n",
    "    \"background-image: url('https://uploads-ssl.webflow.com/619f9fe98661d321dc3beec7/62c814c2b026f0861723e339_illus-work-in-line.svg');\"\n",
    "    \"color: var(--color-white);}\"\n",
    "    \"</style>\"\n",
    "    # End styles BG\n",
    "    \"<link rel='stylesheet'\"\n",
    "    \"href='https://fonts.googleapis.com/css2?family=Material+Symbols+Rounded:opsz,wght,FILL,GRAD@24,400,0,0'/>\"\n",
    "    # Star hint\n",
    "    \"<style>.hint\"\n",
    "    \"{display: flex; position: relative; text-align: center;\"\n",
    "    \"height: 100%; width:100%; border-radius: var(--border-radius-m); padding:16px;\"\n",
    "    \"grid-auto-flow: column; align-items: center;\"\n",
    "    \"background-color: var(--color-grey-100);\"  # Change BG color\n",
    "    \"color: var(--color-black);}\"  # Change Text color\n",
    "    \"</style>\"\n",
    "    # Start icons style\n",
    "    \"<style>.material-symbols-rounded\"\n",
    "    \"{display: flex; position: relative;\"\n",
    "    \"opacity: 1;\"\n",
    "    \"color: var(--color-white);}\"\n",
    "    \"</style>\"\n",
    "    # End icons style\n",
    "    # Start styles text\n",
    "    \"<style>.title-hint\"\n",
    "    \"{display: flex; position: relative; width:100%;\"\n",
    "    \"padding-left: 16px;\"\n",
    "    \"opacity: 1;\"\n",
    "    \"color:var(--color-black);}\"\n",
    "    \"</style>\"\n",
    "    \"<style>.text-hint\"\n",
    "    \"{display: flex; position: relative; width:100%;\"\n",
    "    \"font-size: 14px;\"\n",
    "    \"padding-left: 16px;\"\n",
    "    \"opacity: 1;\"\n",
    "    \"color:var(--color-black);}\"\n",
    "    \"</style>\"\n",
    "    # End hint\n",
    "    \"</head>\"\n",
    "\n",
    "    \"<div class='hint'>\"\n",
    "    \"<span class='material-symbols-rounded'></span>\"\n",
    "    \"<div>\"\n",
    "    \"<h3 class='title-hint'> Everything ready?</h3>\"\n",
    "    \"<p class='text-hint'>Click the button to get the analysis results</p>\"  # Text hint\n",
    "    \"</div>\"\n",
    "    \"</div>\"\n",
    "    \"<div class='bg-work-v2'>\"\n",
    "    \"</div>\"\n",
    ")\n",
    "\n",
    "s.plt.html(\n",
    "    html=html, order=1, rows_size=4, cols_size=8, padding='0,2,0,2',\n",
    ")"
   ]
  },
  {
   "cell_type": "markdown",
   "id": "1426d9f0",
   "metadata": {},
   "source": [
    "## Results After Activity Execution"
   ]
  },
  {
   "cell_type": "code",
   "execution_count": null,
   "id": "920d3988",
   "metadata": {},
   "outputs": [],
   "source": [
    "s.plt.set_tabs_index(tabs_index=('Steps', 'Results (After Activity Execution)'))"
   ]
  },
  {
   "cell_type": "code",
   "execution_count": null,
   "id": "ef64fdb5",
   "metadata": {},
   "outputs": [],
   "source": [
    "s.plt.html(\n",
    "    html=title_for_tab('Analysis Results', 'person'),\n",
    "    order=0, rows_size=2, cols_size=12,\n",
    ")"
   ]
  },
  {
   "cell_type": "code",
   "execution_count": null,
   "id": "112bc581",
   "metadata": {},
   "outputs": [],
   "source": [
    "factor_values = [80, 60, 10, 4]\n",
    "\n",
    "s.activate_async_execution()\n",
    "\n",
    "for i, factor_value in enumerate(factor_values):\n",
    "    s.plt.gauge_indicator(\n",
    "        order=i*2+1,\n",
    "        title=f'Factor {i+1}',\n",
    "        description=f'Description of Factor {i+1}',\n",
    "        value=factor_value,\n",
    "        color=i+1,\n",
    "    )\n",
    "    \n",
    "s.run()\n",
    "s.activate_sequential_execution()"
   ]
  },
  {
   "cell_type": "code",
   "execution_count": null,
   "id": "001a213a",
   "metadata": {},
   "outputs": [],
   "source": [
    "s.plt.html(\n",
    "    html=title_for_tab('Factors Through Time', 'line'),order=10,\n",
    ")"
   ]
  },
  {
   "cell_type": "code",
   "execution_count": null,
   "id": "0b4fd109",
   "metadata": {},
   "outputs": [],
   "source": [
    "factors_through_time = [\n",
    "    {'date': '2021-01-01', 'factor 1': 80+random.randint(-10, 10), 'factor 2': 60+random.randint(-5, 5), 'factor 3': 10+random.randint(-10, 10), 'factor 4': 4+random.randint(-2, 2)},\n",
    "    {'date': '2021-02-01', 'factor 1': 80+random.randint(-10, 10), 'factor 2': 60+random.randint(-5, 5), 'factor 3': 10+random.randint(-10, 10), 'factor 4': 4+random.randint(-2, 2)},\n",
    "    {'date': '2021-03-01', 'factor 1': 80+random.randint(-10, 10), 'factor 2': 60+random.randint(-5, 5), 'factor 3': 10+random.randint(-10, 10), 'factor 4': 4+random.randint(-2, 2)},\n",
    "    {'date': '2021-04-01', 'factor 1': 80+random.randint(-10, 10), 'factor 2': 60+random.randint(-5, 5), 'factor 3': 10+random.randint(-10, 10), 'factor 4': 4+random.randint(-2, 2)},\n",
    "    {'date': '2021-05-01', 'factor 1': 80+random.randint(-10, 10), 'factor 2': 60+random.randint(-5, 5), 'factor 3': 10+random.randint(-10, 10), 'factor 4': 4+random.randint(-2, 2)},\n",
    "    {'date': '2021-06-01', 'factor 1': 80+random.randint(-10, 10), 'factor 2': 60+random.randint(-5, 5), 'factor 3': 10+random.randint(-10, 10), 'factor 4': 4+random.randint(-2, 2)},\n",
    "    {'date': '2021-07-01', 'factor 1': 80+random.randint(-10, 10), 'factor 2': 60+random.randint(-5, 5), 'factor 3': 10+random.randint(-10, 10), 'factor 4': 4+random.randint(-2, 2)},\n",
    "    {'date': '2021-08-01', 'factor 1': 80+random.randint(-10, 10), 'factor 2': 60+random.randint(-5, 5), 'factor 3': 10+random.randint(-10, 10), 'factor 4': 4+random.randint(-2, 2)},\n",
    "    {'date': '2021-09-01', 'factor 1': 80+random.randint(-10, 10), 'factor 2': 60+random.randint(-5, 5), 'factor 3': 10+random.randint(-10, 10), 'factor 4': 4+random.randint(-2, 2)},\n",
    "    {'date': '2021-10-01', 'factor 1': 80+random.randint(-10, 10), 'factor 2': 60+random.randint(-5, 5), 'factor 3': 10+random.randint(-10, 10), 'factor 4': 4+random.randint(-2, 2)},\n",
    "]\n",
    "\n",
    "s.plt.stacked_area(\n",
    "    order=11, data=factors_through_time,\n",
    "    x='date', show_values=['factor 1'],\n",
    ")"
   ]
  },
  {
   "cell_type": "code",
   "execution_count": null,
   "id": "a96eb8ac",
   "metadata": {},
   "outputs": [],
   "source": [
    "s.plt.activity_button(\n",
    "    order=12, activity_name='Mock Activity',\n",
    "    label='Calculate Results',\n",
    "    cols_size=2, padding='0, 5, 0, 5',\n",
    ")"
   ]
  }
 ],
 "metadata": {
  "kernelspec": {
   "display_name": "shimoku-app-templates",
   "language": "python",
   "name": "shimoku-app-templates"
  },
  "language_info": {
   "codemirror_mode": {
    "name": "ipython",
    "version": 3
   },
   "file_extension": ".py",
   "mimetype": "text/x-python",
   "name": "python",
   "nbconvert_exporter": "python",
   "pygments_lexer": "ipython3",
   "version": "3.9.16"
  }
 },
 "nbformat": 4,
 "nbformat_minor": 5
}
