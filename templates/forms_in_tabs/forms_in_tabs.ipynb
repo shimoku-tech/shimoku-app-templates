{
 "cells": [
  {
   "cell_type": "markdown",
   "id": "be29230b",
   "metadata": {},
   "source": [
    "# Forms In Tabs\n",
    "\n",
    "Interactive version"
   ]
  },
  {
   "cell_type": "markdown",
   "id": "eb060eb2",
   "metadata": {},
   "source": [
    "## Necessary Imports"
   ]
  },
  {
   "cell_type": "code",
   "execution_count": null,
   "id": "43c7c7d3",
   "metadata": {},
   "outputs": [],
   "source": [
    "import random\n",
    "\n",
    "import shimoku_api_python as shimoku\n",
    "\n",
    "from os import getenv"
   ]
  },
  {
   "cell_type": "markdown",
   "id": "29f778f2",
   "metadata": {},
   "source": [
    "## Define Auxiliary Functions"
   ]
  },
  {
   "cell_type": "code",
   "execution_count": null,
   "id": "c47f7939",
   "metadata": {},
   "outputs": [],
   "source": [
    "def title_for_tab(title: str, image: str):\n",
    "    images_map = dict(\n",
    "        up_arrow='https://uploads-ssl.webflow.com/619f9fe98661d321dc3beec7/63b70d3e066b7de92c87e0d6_objetivo.svg',\n",
    "        person='https://uploads-ssl.webflow.com/619f9fe98661d321dc3beec7/63b70d3ed31dd23d7f03c557_confirm.svg',\n",
    "        question_mark='https://uploads-ssl.webflow.com/619f9fe98661d321dc3beec7/63b70d3efa39b1480451e0a7_questions.svg',\n",
    "        calendar='https://uploads-ssl.webflow.com/619f9fe98661d321dc3beec7/63b70d3efa39b15f2451e0a6_when.svg',\n",
    "        clipboard='https://uploads-ssl.webflow.com/619f9fe98661d321dc3beec7/63d38d2975ec8b6beff4b627_descarte.svg',\n",
    "        contact='https://uploads-ssl.webflow.com/619f9fe98661d321dc3beec7/63d38d299332c063e44ab858_diagnos.svg',\n",
    "        line='https://uploads-ssl.webflow.com/619f9fe98661d321dc3beec7/63d38d29d6508b3eccc21382_historia.svg',\n",
    "    )\n",
    "    return (\n",
    "        \"<head>\"\n",
    "        \"<style>.subtitle-block {display: flex; align-items: center;}</style>\"\n",
    "        \"<style>.little-subtitle-block {height:48px; width:48px; padding-up: 24px; color:var(--color-white);}</style>\"\n",
    "        \"<style>.subtitle {var(--color-black); padding-left: 24px; padding-up: 24px;}</style>\"\n",
    "        \"</head>\"\n",
    "        \"<div class='subtitle-block'>\"\n",
    "        \"<div class='little-subtitle-block'>\"\n",
    "        f\"<img src={images_map[image]}>\"  # Change url\n",
    "        \"</div>\"\n",
    "        f\"<h4 class='subtitle'>{title}</h6>\"  # Change subtitle\n",
    "        \"</div>\"\n",
    "    )"
   ]
  },
  {
   "cell_type": "markdown",
   "id": "a33e00a2",
   "metadata": {},
   "source": [
    "## Client Initialization"
   ]
  },
  {
   "cell_type": "code",
   "execution_count": null,
   "id": "3f9ff12c",
   "metadata": {},
   "outputs": [],
   "source": [
    "api_key: str = getenv('API_TOKEN')\n",
    "universe_id: str = getenv('UNIVERSE_ID')\n",
    "business_id: str = getenv('BUSINESS_ID')\n",
    "environment: str = getenv('ENVIRONMENT')\n",
    "\n",
    "s = shimoku.Client(\n",
    "    access_token=api_key,\n",
    "    universe_id=universe_id,\n",
    "    environment=environment,\n",
    "    business_id=business_id,\n",
    "    async_execution=False,\n",
    "    verbosity='INFO',\n",
    ")\n",
    "\n",
    "menu_path = 'Forms In Tabs'"
   ]
  },
  {
   "cell_type": "markdown",
   "id": "d0c3890e",
   "metadata": {},
   "source": [
    "## Clear Menu Path"
   ]
  },
  {
   "cell_type": "code",
   "execution_count": null,
   "id": "52d0676d",
   "metadata": {},
   "outputs": [],
   "source": [
    "s.plt.delete_path(menu_path)"
   ]
  },
  {
   "cell_type": "markdown",
   "id": "dde37662",
   "metadata": {},
   "source": [
    "## Create Header"
   ]
  },
  {
   "cell_type": "code",
   "execution_count": null,
   "id": "e4cf4acb",
   "metadata": {},
   "outputs": [],
   "source": [
    "header = (\n",
    "    \"<head>\"\n",
    "    \"<style>.hero-block\"\n",
    "    \"{display: flex; align-items: center; padding: 24px; background-color:transparent;}\"\n",
    "    \"</style>\"\n",
    "    # Start styles icon bg\n",
    "    \"<style>.little-head-block\"\n",
    "    \"{height:80px; width:80px; border-radius:var(--border-radius-m);\"\n",
    "    \"padding:16px; background:var(--color-secondary);\"\n",
    "    \"color:var(--color-white);}\"\n",
    "    \"</style>\"\n",
    "    # End styles icon bg\n",
    "    \"<style>.title{var(--color-black); padding-left: 24px;}</style>\"\n",
    "    \"<style>.button-block{position: absolute; right: 0;}</style>\"\n",
    "    # Start styles button\n",
    "    \"<style>.button\"\n",
    "    \"{display: flex; background-color: var(--color-black);\"  # Change bg color\n",
    "    \"padding: 16px; border-radius: var(--border-radius-m);\"  # Change padding to increase width and height\n",
    "    \"font-size: 14px; color: var(--color-white); box-shadow: var(--box-shadow-m); transition-duration: 0.2s;}\"\n",
    "    \".button:hover{background-color: var(--color-secondary); color: var(--color-white);}\"  # Change bg and text hover colors\n",
    "    \"</style>\"\n",
    "    # End styles button\n",
    "    \"</head>\"\n",
    "    \"<div class='hero-block'>\"\n",
    "    \"<div class='little-head-block'>\"\n",
    "    \"<img src='https://uploads-ssl.webflow.com/619f9fe98661d321dc3beec7/63d266030485cb25312127b2_usersearch.svg'>\"\n",
    "    \"</div>\"\n",
    "    \"<h1 class='title'>Forms In Tabs</h1>\"\n",
    "    \"</div>\"\n",
    "    \"</div>\"\n",
    ")\n",
    "\n",
    "s.plt.html(\n",
    "    html=header,\n",
    "    menu_path=menu_path,\n",
    "    order=0, cols_size=12,\n",
    ")"
   ]
  },
  {
   "cell_type": "markdown",
   "id": "816dd1a2",
   "metadata": {},
   "source": [
    "## First Step Tab"
   ]
  },
  {
   "cell_type": "code",
   "execution_count": null,
   "id": "d76ce53e",
   "metadata": {},
   "outputs": [],
   "source": [
    "first_tab_index = ('Steps', 'First Step')"
   ]
  },
  {
   "cell_type": "markdown",
   "id": "fd58a919",
   "metadata": {},
   "source": [
    "### First Bento Box"
   ]
  },
  {
   "cell_type": "code",
   "execution_count": null,
   "id": "554c767c",
   "metadata": {},
   "outputs": [],
   "source": [
    "first_bentobox_data = {\n",
    "    'bentoboxId': 'FirstStepGeneralQuestions',\n",
    "    'bentoboxOrder': 0, \n",
    "    'bentoboxSizeColumns': 8, \n",
    "    'bentoboxSizeRows': 2\n",
    "}"
   ]
  },
  {
   "cell_type": "code",
   "execution_count": null,
   "id": "7fd7f681",
   "metadata": {},
   "outputs": [],
   "source": [
    "s.plt.html(\n",
    "    html=title_for_tab('General Questions', 'question_mark'),\n",
    "    menu_path=menu_path,\n",
    "    order=0, rows_size=3, cols_size=22,\n",
    "    padding='2, 0, 0, 1',\n",
    "    tabs_index=first_tab_index,\n",
    "    bentobox_data=first_bentobox_data,\n",
    ")"
   ]
  },
  {
   "cell_type": "code",
   "execution_count": null,
   "id": "b0537670",
   "metadata": {},
   "outputs": [],
   "source": [
    "s.activate_async_execution()\n",
    "general_questions_forms_data = {\n",
    "    'Which problem?': [{\n",
    "        'mapping': 'whichProblem',\n",
    "        'fieldName': 'Select a problem',\n",
    "        'inputType': 'select',\n",
    "        'options': ['Problem 1', 'Problem 2', 'Problem 3'],\n",
    "    },\n",
    "        {\n",
    "            'mapping': 'whichProblemIntensity',\n",
    "            'fieldName': 'Specify the intensity',\n",
    "            'inputType': 'range',\n",
    "        }],\n",
    "    'When did it happen?': [{\n",
    "        'mapping': 'whenDidItHappen',\n",
    "        'fieldName': 'Select an approximate date range',\n",
    "        'inputType': 'dateRange',\n",
    "    }],\n",
    "    'How did it happen?': [{\n",
    "        'mapping': 'howDidItHappen',\n",
    "        'fieldName': 'Describe the problem',\n",
    "        'inputType': 'text',\n",
    "    }],\n",
    "    'Estimated cost?': [{\n",
    "        'mapping': 'estimatedCost',\n",
    "        'fieldName': 'Specify the estimated cost',\n",
    "        'inputType': 'number',\n",
    "    }],\n",
    "    'Estimated time to fix?': [{\n",
    "        'mapping': 'estimatedTimeToFix',\n",
    "        'fieldName': 'Specify the estimated time to fix in days',\n",
    "        'inputType': 'number',\n",
    "    }],\n",
    "    'How can we contact you?': [{\n",
    "        'mapping': 'howCanWeContactYouMail',\n",
    "        'fieldName': 'Specify your email',\n",
    "        'inputType': 'email',\n",
    "        'sizeColumns': 11,\n",
    "    },\n",
    "        {\n",
    "            'mapping': 'howCanWeContactYouTlf',\n",
    "            'fieldName': 'Specify your phone number',\n",
    "            'inputType': 'tel',\n",
    "            'sizeColumns': 11,\n",
    "        }],\n",
    "}\n",
    "\n",
    "for question, form_data in general_questions_forms_data.items():\n",
    "    report_dataset_properties = {\n",
    "        'variant': 'autoSend',\n",
    "        'fields': [\n",
    "            {\n",
    "                'title': '',\n",
    "                'fields': form_data\n",
    "            }\n",
    "        ]\n",
    "    }\n",
    "    s.plt.input_form(\n",
    "        report_dataset_properties=report_dataset_properties,\n",
    "        menu_path=menu_path,\n",
    "        order=0, cols_size=22,\n",
    "        padding=f'{0 if question == \"Which problem?\" else 1}, 0, 0, 0',\n",
    "        tabs_index=('Questions', question),  # Each question has its own tab\n",
    "        bentobox_data=first_bentobox_data,\n",
    "    )\n",
    "\n",
    "s.run()\n",
    "s.activate_sequential_execution()"
   ]
  },
  {
   "cell_type": "code",
   "execution_count": null,
   "id": "9dabdb8a",
   "metadata": {},
   "outputs": [],
   "source": [
    "s.plt.change_tabs_group_internal_order(\n",
    "    group_name='Questions', \n",
    "    menu_path=menu_path, \n",
    "    tabs_list=list(general_questions_forms_data.keys())\n",
    ")"
   ]
  },
  {
   "cell_type": "markdown",
   "id": "6a0d8041",
   "metadata": {},
   "source": [
    "We insert the group of tabs in the first tab"
   ]
  },
  {
   "cell_type": "code",
   "execution_count": null,
   "id": "7dfb3e4b",
   "metadata": {},
   "outputs": [],
   "source": [
    "s.plt.insert_tabs_group_in_tab(\n",
    "    menu_path=menu_path,\n",
    "    parent_tab_index=first_tab_index,\n",
    "    child_tabs_group='Questions'\n",
    ")"
   ]
  },
  {
   "cell_type": "markdown",
   "id": "0bc9edf1",
   "metadata": {},
   "source": [
    "We tell the tabs group that it is in a bentobox"
   ]
  },
  {
   "cell_type": "code",
   "execution_count": null,
   "id": "f8908c2d",
   "metadata": {},
   "outputs": [],
   "source": [
    "s.plt.update_tabs_group_metadata(\n",
    "    menu_path=menu_path,\n",
    "    group_name='Questions',\n",
    "    bentobox_data=first_bentobox_data,\n",
    "    padding='1,0,0,1',\n",
    "    cols_size=22,\n",
    "    rows_size=17,\n",
    "    just_labels=True,\n",
    "    sticky=False,\n",
    ")"
   ]
  },
  {
   "cell_type": "markdown",
   "id": "772810b9",
   "metadata": {},
   "source": [
    "### Second Bento Box"
   ]
  },
  {
   "cell_type": "code",
   "execution_count": null,
   "id": "5293f833",
   "metadata": {},
   "outputs": [],
   "source": [
    "second_bentobox_data = {\n",
    "    'bentoboxId': 'PlanSelection',\n",
    "    'bentoboxOrder': 4, \n",
    "    'bentoboxSizeColumns': 4, \n",
    "    'bentoboxSizeRows': 2\n",
    "}"
   ]
  },
  {
   "cell_type": "code",
   "execution_count": null,
   "id": "b606cb58",
   "metadata": {},
   "outputs": [],
   "source": [
    "s.plt.html(\n",
    "    html=title_for_tab('Plan', 'up_arrow'),\n",
    "    menu_path=menu_path,\n",
    "    order=4, rows_size=3, cols_size=22,\n",
    "    padding='2, 0, 0, 1',\n",
    "    tabs_index=first_tab_index,\n",
    "    bentobox_data=second_bentobox_data,\n",
    ")"
   ]
  },
  {
   "cell_type": "code",
   "execution_count": null,
   "id": "bbb38e09",
   "metadata": {},
   "outputs": [],
   "source": [
    "input_forms = {'': [{\n",
    "    'mapping': 'planSelection',\n",
    "    'fieldName': 'Select one of the available plans',\n",
    "    'inputType': 'radio',\n",
    "    'options': ['Plan A', 'Plan B', 'Plan C', 'Plan D',\n",
    "                'Plan E', 'Plan F', 'Plan G', 'Plan H'],\n",
    "}]}\n",
    "\n",
    "s.plt.generate_input_form_groups(\n",
    "    menu_path=menu_path,\n",
    "    order=5, form_groups=input_forms, cols_size=22, rows_size=8,\n",
    "    padding='1,0,0,1', bentobox_data=second_bentobox_data,\n",
    "    tabs_index=first_tab_index, auto_send=True,\n",
    ")"
   ]
  },
  {
   "cell_type": "markdown",
   "id": "3241d6da",
   "metadata": {},
   "source": [
    "### Third Bento Box"
   ]
  },
  {
   "cell_type": "code",
   "execution_count": null,
   "id": "346a849f",
   "metadata": {},
   "outputs": [],
   "source": [
    "third_bentobox_data = {\n",
    "    'bentoboxId': 'PreviousExperiences',\n",
    "    'bentoboxOrder': 6, \n",
    "    'bentoboxSizeColumns': 12, \n",
    "    'bentoboxSizeRows': 2\n",
    "}"
   ]
  },
  {
   "cell_type": "code",
   "execution_count": null,
   "id": "e853faea",
   "metadata": {},
   "outputs": [],
   "source": [
    "s.plt.html(\n",
    "    html=title_for_tab('Previous Experiences', 'clipboard'),\n",
    "    menu_path=menu_path,\n",
    "    order=7, rows_size=3, cols_size=22,\n",
    "    padding='2, 0, 1, 1',\n",
    "    tabs_index=first_tab_index,\n",
    "    bentobox_data=third_bentobox_data,\n",
    ")"
   ]
  },
  {
   "cell_type": "code",
   "execution_count": null,
   "id": "9d381585",
   "metadata": {},
   "outputs": [],
   "source": [
    "input_forms = {'': [\n",
    "    {\n",
    "        'mapping': 'previousExperiences',\n",
    "        'fieldName': 'Have you had previous experiences with this problem?',\n",
    "        'inputType': 'radio',\n",
    "        'options': ['Yes', 'No'],\n",
    "        'sizeColumns': 3,\n",
    "    },\n",
    "    {\n",
    "        'mapping': 'previousExperiencesWhen',\n",
    "        'fieldName': 'When?',\n",
    "        'inputType': 'date',\n",
    "        'sizeColumns': 19,\n",
    "    },\n",
    "    {\n",
    "        'mapping': 'previousExperiencesSolution',\n",
    "        'fieldName': 'How was it solved?',\n",
    "        'inputType': 'text'\n",
    "    }\n",
    "]}\n",
    "\n",
    "s.plt.generate_input_form_groups(\n",
    "    menu_path=menu_path,\n",
    "    order=8, form_groups=input_forms, cols_size=22, rows_size=20,\n",
    "    padding='0,0,0,1', bentobox_data=third_bentobox_data,\n",
    "    tabs_index=first_tab_index, auto_send=True,\n",
    ")"
   ]
  },
  {
   "cell_type": "markdown",
   "id": "7e395b95",
   "metadata": {},
   "source": [
    "## Change Steps Tabs Group Order"
   ]
  },
  {
   "cell_type": "code",
   "execution_count": null,
   "id": "77933c0f",
   "metadata": {},
   "outputs": [],
   "source": [
    "s.plt.update_tabs_group_metadata(\n",
    "    menu_path=menu_path,\n",
    "    group_name='Steps',\n",
    "    order=2,\n",
    "    sticky=True\n",
    ")"
   ]
  },
  {
   "cell_type": "markdown",
   "id": "651474d1",
   "metadata": {},
   "source": [
    "## Second Step Tab"
   ]
  },
  {
   "cell_type": "code",
   "execution_count": null,
   "id": "a1749cd8",
   "metadata": {},
   "outputs": [],
   "source": [
    "second_tab_index = ('Steps', 'Second Step')"
   ]
  },
  {
   "cell_type": "code",
   "execution_count": null,
   "id": "8e3d6e39",
   "metadata": {},
   "outputs": [],
   "source": [
    "s.plt.html(\n",
    "    html=title_for_tab(\"Problem Characteristics\", 'question_mark'),\n",
    "    menu_path=menu_path,\n",
    "    order=0, rows_size=2, cols_size=12,\n",
    "    tabs_index=second_tab_index,\n",
    ")"
   ]
  },
  {
   "cell_type": "code",
   "execution_count": null,
   "id": "e70ab0f6",
   "metadata": {},
   "outputs": [],
   "source": [
    "def input_binary_and_select(text, order, options, options_name='Specify'):\n",
    "    bentobox_data = {\n",
    "        'bentoboxId': f'Descarte{order}',\n",
    "        'bentoboxOrder': order,\n",
    "        'bentoboxSizeColumns': 6,\n",
    "        'bentoboxSizeRows': 2,\n",
    "    }\n",
    "\n",
    "    s.plt.html(\n",
    "        html=f\"<h6>    </h6> <br> <br>\",\n",
    "        menu_path=menu_path,\n",
    "        order=order, rows_size=1, cols_size=12,\n",
    "        tabs_index=second_tab_index,\n",
    "        bentobox_data=bentobox_data,\n",
    "    )\n",
    "\n",
    "    text_mapping = text.split(' ')[0]\n",
    "    input_forms = {'': [{\n",
    "            'mapping': second_tab_index[1] + ' ' + text_mapping,\n",
    "            'fieldName': text,\n",
    "            'inputType': 'radio',\n",
    "            'options': ['Yes', 'No'],\n",
    "        },\n",
    "        {\n",
    "             'mapping': second_tab_index[1] + ' ' + text_mapping + ' ' + options_name,\n",
    "             'fieldName': options_name,\n",
    "             'inputType': 'select',\n",
    "             'options': options,\n",
    "             'showSearch': True,\n",
    "         }\n",
    "    ]}\n",
    "\n",
    "    s.plt.generate_input_form_groups(\n",
    "        menu_path=menu_path,\n",
    "        order=order + 1, form_groups=input_forms, cols_size=22, rows_size=14,\n",
    "        padding=f'3,0,0,1', bentobox_data=bentobox_data,\n",
    "        tabs_index=second_tab_index, auto_send=True,\n",
    "    )"
   ]
  },
  {
   "cell_type": "code",
   "execution_count": null,
   "id": "f0c5ff47",
   "metadata": {},
   "outputs": [],
   "source": [
    "s.activate_async_execution()\n",
    "input_binary_and_select('Characteristic 1', 2 , ['Option 1', 'Option 2'])\n",
    "input_binary_and_select('Characteristic 2', 4 , ['Option 1', 'Option 2'])\n",
    "input_binary_and_select('Characteristic 3', 6 , ['Option 1', 'Option 2'])\n",
    "input_binary_and_select('Characteristic 4', 8 , ['Option 1', 'Option 2'])\n",
    "input_binary_and_select('Characteristic 5', 10, ['Option 1', 'Option 2'])\n",
    "input_binary_and_select('Characteristic 6', 12, ['Option 1', 'Option 2'])\n",
    "s.run()\n",
    "s.activate_sequential_execution()"
   ]
  },
  {
   "cell_type": "markdown",
   "id": "574c463e",
   "metadata": {},
   "source": [
    "## Results Tab"
   ]
  },
  {
   "cell_type": "code",
   "execution_count": null,
   "id": "6abf8452",
   "metadata": {},
   "outputs": [],
   "source": [
    "results_tab_index = ('Steps', 'Results')"
   ]
  },
  {
   "cell_type": "markdown",
   "id": "53392169",
   "metadata": {},
   "source": [
    "The acivity will have no effect, this is just to show how to create an activity button"
   ]
  },
  {
   "cell_type": "code",
   "execution_count": null,
   "id": "22afcbde",
   "metadata": {},
   "outputs": [],
   "source": [
    "try:\n",
    "    s.activity.get_activity(\n",
    "        menu_path=menu_path, activity_name='Mock Activity')\n",
    "except RuntimeError:\n",
    "    s.activity.create_activity(\n",
    "        menu_path=menu_path, activity_name='Mock Activity')\n",
    "\n",
    "s.activity.button_execute_activity(\n",
    "    menu_path=menu_path, order=0,\n",
    "    activity_name='Mock Activity',\n",
    "    label='Calculate Results',\n",
    "    tabs_index=results_tab_index,\n",
    "    cols_size=2,\n",
    "    padding='1, 5, 0, 5',\n",
    ")"
   ]
  },
  {
   "cell_type": "code",
   "execution_count": null,
   "id": "7158e455",
   "metadata": {},
   "outputs": [],
   "source": [
    "html = (\n",
    "    \"<head>\"\n",
    "    # Start styles BG\n",
    "    \"<style>.bg-work-v2\"\n",
    "    \"{height: 40vh; width: 100%; border-radius: var(--border-radius-m);\"\n",
    "    \"margin-top: 16px;\"\n",
    "    \"margin-bottom: 32px;\"\n",
    "    \"display: flex;\"\n",
    "    \"justify-content: center;\"\n",
    "    \"align-items: center;\"\n",
    "    \"background-size: auto;\"\n",
    "    \"background-position: center;\"\n",
    "    \"background-repeat: no-repeat;\"\n",
    "    \"background-color: var(--color-grey-100);\"\n",
    "    \"background-image: url('https://uploads-ssl.webflow.com/619f9fe98661d321dc3beec7/62c814c2b026f0861723e339_illus-work-in-line.svg');\"\n",
    "    \"color: var(--color-white);}\"\n",
    "    \"</style>\"\n",
    "    # End styles BG\n",
    "    \"<link rel='stylesheet'\"\n",
    "    \"href='https://fonts.googleapis.com/css2?family=Material+Symbols+Rounded:opsz,wght,FILL,GRAD@24,400,0,0'/>\"\n",
    "    # Star hint\n",
    "    \"<style>.hint\"\n",
    "    \"{display: flex; position: relative; text-align: center;\"\n",
    "    \"height: 100%; width:100%; border-radius: var(--border-radius-m); padding:16px;\"\n",
    "    \"grid-auto-flow: column; align-items: center;\"\n",
    "    \"background-color: var(--color-grey-100);\"  # Change BG color\n",
    "    \"color: var(--color-black);}\"  # Change Text color\n",
    "    \"</style>\"\n",
    "    # Start icons style\n",
    "    \"<style>.material-symbols-rounded\"\n",
    "    \"{display: flex; position: relative;\"\n",
    "    \"opacity: 1;\"\n",
    "    \"color: var(--color-white);}\"\n",
    "    \"</style>\"\n",
    "    # End icons style\n",
    "    # Start styles text\n",
    "    \"<style>.title-hint\"\n",
    "    \"{display: flex; position: relative; width:100%;\"\n",
    "    \"padding-left: 16px;\"\n",
    "    \"opacity: 1;\"\n",
    "    \"color:var(--color-black);}\"\n",
    "    \"</style>\"\n",
    "    \"<style>.text-hint\"\n",
    "    \"{display: flex; position: relative; width:100%;\"\n",
    "    \"font-size: 14px;\"\n",
    "    \"padding-left: 16px;\"\n",
    "    \"opacity: 1;\"\n",
    "    \"color:var(--color-black);}\"\n",
    "    \"</style>\"\n",
    "    # End hint\n",
    "    \"</head>\"\n",
    "\n",
    "    \"<div class='hint'>\"\n",
    "    \"<span class='material-symbols-rounded'></span>\"\n",
    "    \"<div>\"\n",
    "    \"<h3 class='title-hint'> Everything ready?</h3>\"\n",
    "    \"<p class='text-hint'>Click the button to get the analysis results</p>\"  # Text hint\n",
    "    \"</div>\"\n",
    "    \"</div>\"\n",
    "    \"<div class='bg-work-v2'>\"\n",
    "    \"</div>\"\n",
    ")\n",
    "\n",
    "s.plt.html(\n",
    "    html=html,\n",
    "    menu_path=menu_path,\n",
    "    order=1, rows_size=4, cols_size=8,\n",
    "    padding='0,2,0,2',\n",
    "    tabs_index=results_tab_index,\n",
    ")"
   ]
  },
  {
   "cell_type": "markdown",
   "id": "1426d9f0",
   "metadata": {},
   "source": [
    "## Results After Activity Execution"
   ]
  },
  {
   "cell_type": "code",
   "execution_count": null,
   "id": "920d3988",
   "metadata": {},
   "outputs": [],
   "source": [
    "results_aae_tab_index = ('Steps', 'Results (After Activity Execution)')"
   ]
  },
  {
   "cell_type": "code",
   "execution_count": null,
   "id": "ef64fdb5",
   "metadata": {},
   "outputs": [],
   "source": [
    "s.plt.html(\n",
    "    html=title_for_tab('Analysis Results', 'person'),\n",
    "    menu_path=menu_path,\n",
    "    order=0, rows_size=2, cols_size=12,\n",
    "    tabs_index=results_aae_tab_index,\n",
    ")"
   ]
  },
  {
   "cell_type": "code",
   "execution_count": null,
   "id": "112bc581",
   "metadata": {},
   "outputs": [],
   "source": [
    "factor_values = [80, 60, 10, 4]\n",
    "\n",
    "s.activate_async_execution()\n",
    "\n",
    "for i, factor_value in enumerate(factor_values):\n",
    "    s.plt.gauge_indicator(\n",
    "        menu_path=menu_path, order=i*2+1,\n",
    "        title=f'Factor {i+1}',\n",
    "        description=f'Description of Factor {i+1}',\n",
    "        value=factor_value,\n",
    "        tabs_index=results_aae_tab_index,\n",
    "        color=i+1,\n",
    "    )\n",
    "    \n",
    "s.run()\n",
    "s.activate_sequential_execution()"
   ]
  },
  {
   "cell_type": "code",
   "execution_count": null,
   "id": "001a213a",
   "metadata": {},
   "outputs": [],
   "source": [
    "s.plt.html(\n",
    "    html=title_for_tab('Factors Through Time', 'line'),\n",
    "    menu_path=menu_path,\n",
    "    order=10,\n",
    "    tabs_index=results_aae_tab_index,\n",
    ")"
   ]
  },
  {
   "cell_type": "code",
   "execution_count": null,
   "id": "0b4fd109",
   "metadata": {},
   "outputs": [],
   "source": [
    "factors_through_time = [\n",
    "    {'date': '2021-01-01', 'factor 1': 80+random.randint(-10, 10), 'factor 2': 60+random.randint(-5, 5), 'factor 3': 10+random.randint(-10, 10), 'factor 4': 4+random.randint(-2, 2)},\n",
    "    {'date': '2021-02-01', 'factor 1': 80+random.randint(-10, 10), 'factor 2': 60+random.randint(-5, 5), 'factor 3': 10+random.randint(-10, 10), 'factor 4': 4+random.randint(-2, 2)},\n",
    "    {'date': '2021-03-01', 'factor 1': 80+random.randint(-10, 10), 'factor 2': 60+random.randint(-5, 5), 'factor 3': 10+random.randint(-10, 10), 'factor 4': 4+random.randint(-2, 2)},\n",
    "    {'date': '2021-04-01', 'factor 1': 80+random.randint(-10, 10), 'factor 2': 60+random.randint(-5, 5), 'factor 3': 10+random.randint(-10, 10), 'factor 4': 4+random.randint(-2, 2)},\n",
    "    {'date': '2021-05-01', 'factor 1': 80+random.randint(-10, 10), 'factor 2': 60+random.randint(-5, 5), 'factor 3': 10+random.randint(-10, 10), 'factor 4': 4+random.randint(-2, 2)},\n",
    "    {'date': '2021-06-01', 'factor 1': 80+random.randint(-10, 10), 'factor 2': 60+random.randint(-5, 5), 'factor 3': 10+random.randint(-10, 10), 'factor 4': 4+random.randint(-2, 2)},\n",
    "    {'date': '2021-07-01', 'factor 1': 80+random.randint(-10, 10), 'factor 2': 60+random.randint(-5, 5), 'factor 3': 10+random.randint(-10, 10), 'factor 4': 4+random.randint(-2, 2)},\n",
    "    {'date': '2021-08-01', 'factor 1': 80+random.randint(-10, 10), 'factor 2': 60+random.randint(-5, 5), 'factor 3': 10+random.randint(-10, 10), 'factor 4': 4+random.randint(-2, 2)},\n",
    "    {'date': '2021-09-01', 'factor 1': 80+random.randint(-10, 10), 'factor 2': 60+random.randint(-5, 5), 'factor 3': 10+random.randint(-10, 10), 'factor 4': 4+random.randint(-2, 2)},\n",
    "    {'date': '2021-10-01', 'factor 1': 80+random.randint(-10, 10), 'factor 2': 60+random.randint(-5, 5), 'factor 3': 10+random.randint(-10, 10), 'factor 4': 4+random.randint(-2, 2)},\n",
    "]\n",
    "\n",
    "s.plt.stacked_area_chart(\n",
    "    menu_path=menu_path, order=11,\n",
    "    data=factors_through_time,\n",
    "    x='date',\n",
    "    tabs_index=results_aae_tab_index,\n",
    "    calculate_percentages=True,\n",
    "    show_values=['factor 1'],\n",
    ")"
   ]
  },
  {
   "cell_type": "code",
   "execution_count": null,
   "id": "a96eb8ac",
   "metadata": {},
   "outputs": [],
   "source": [
    "s.activity.button_execute_activity(\n",
    "    menu_path=menu_path, order=12,\n",
    "    activity_name='Mock Activity',\n",
    "    label='Calculate Results',\n",
    "    tabs_index=results_aae_tab_index,\n",
    "    cols_size=2,\n",
    "    padding='0, 5, 0, 5',\n",
    ")"
   ]
  },
  {
   "cell_type": "markdown",
   "id": "28d82c8c",
   "metadata": {},
   "source": [
    "## Order Tabs"
   ]
  },
  {
   "cell_type": "code",
   "execution_count": null,
   "id": "6d4ef129",
   "metadata": {},
   "outputs": [],
   "source": [
    "s.plt.change_tabs_group_internal_order(\n",
    "    menu_path=menu_path, group_name='Steps',\n",
    "    tabs_list=['First Step', 'Second Step', 'Results', 'Results (After Activity Execution)'],\n",
    ")"
   ]
  }
 ],
 "metadata": {
  "kernelspec": {
   "display_name": "shimoku-app-templates",
   "language": "python",
   "name": "shimoku-app-templates"
  },
  "language_info": {
   "codemirror_mode": {
    "name": "ipython",
    "version": 3
   },
   "file_extension": ".py",
   "mimetype": "text/x-python",
   "name": "python",
   "nbconvert_exporter": "python",
   "pygments_lexer": "ipython3",
   "version": "3.9.16"
  }
 },
 "nbformat": 4,
 "nbformat_minor": 5
}
